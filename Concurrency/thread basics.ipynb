{
 "cells": [
  {
   "cell_type": "code",
   "execution_count": 38,
   "metadata": {},
   "outputs": [],
   "source": [
    "import time \n",
    "import random \n",
    "import threading \n",
    "from threading import Thread"
   ]
  },
  {
   "cell_type": "markdown",
   "metadata": {},
   "source": [
    "## Basic example of a thread"
   ]
  },
  {
   "cell_type": "code",
   "execution_count": 39,
   "metadata": {},
   "outputs": [],
   "source": [
    "def simple_worker():\n",
    "    print(\"Hello\", flush=True)\n",
    "    time.sleep(2)\n",
    "    print(\"world\", flush=True)"
   ]
  },
  {
   "cell_type": "code",
   "execution_count": 40,
   "metadata": {},
   "outputs": [
    {
     "name": "stdout",
     "output_type": "stream",
     "text": [
      "Hello\n"
     ]
    }
   ],
   "source": [
    "t1 = Thread(target=simple_worker)\n",
    "t1.start()"
   ]
  },
  {
   "cell_type": "markdown",
   "metadata": {},
   "source": [
    "## Running multiple threads in parallel"
   ]
  },
  {
   "cell_type": "code",
   "execution_count": 41,
   "metadata": {},
   "outputs": [],
   "source": [
    "def simple_worker():\n",
    "    time.sleep(random.random() * 5)\n",
    "    value = random.randint(0, 99)\n",
    "    print(f\"My value: {value}\")"
   ]
  },
  {
   "cell_type": "code",
   "execution_count": 42,
   "metadata": {},
   "outputs": [],
   "source": [
    "threads = [Thread(target=simple_worker) for _ in range(7)]"
   ]
  },
  {
   "cell_type": "code",
   "execution_count": 43,
   "metadata": {},
   "outputs": [],
   "source": [
    "[t.start() for t in threads];"
   ]
  },
  {
   "cell_type": "markdown",
   "metadata": {},
   "source": [
    "## Thread States\n",
    "\n",
    "A thread can be in multiple states, when a thread is created it is in the state \"ready\""
   ]
  },
  {
   "cell_type": "code",
   "execution_count": 50,
   "metadata": {},
   "outputs": [],
   "source": [
    "def simple_worker():\n",
    "    print(\"Thread running...\")\n",
    "    time.sleep(5)\n",
    "    print(\"Thread finished...\")"
   ]
  },
  {
   "cell_type": "code",
   "execution_count": 71,
   "metadata": {},
   "outputs": [],
   "source": [
    "t = Thread(target=simple_worker)"
   ]
  },
  {
   "cell_type": "code",
   "execution_count": 67,
   "metadata": {},
   "outputs": [
    {
     "data": {
      "text/plain": [
       "False"
      ]
     },
     "execution_count": 67,
     "metadata": {},
     "output_type": "execute_result"
    }
   ],
   "source": [
    "t.is_alive()"
   ]
  },
  {
   "cell_type": "code",
   "execution_count": 72,
   "metadata": {},
   "outputs": [
    {
     "name": "stdout",
     "output_type": "stream",
     "text": [
      "Thread running...\n"
     ]
    }
   ],
   "source": [
    "t.start()"
   ]
  },
  {
   "cell_type": "code",
   "execution_count": 65,
   "metadata": {},
   "outputs": [
    {
     "data": {
      "text/plain": [
       "True"
      ]
     },
     "execution_count": 65,
     "metadata": {},
     "output_type": "execute_result"
    }
   ],
   "source": [
    "t.is_alive()"
   ]
  },
  {
   "cell_type": "code",
   "execution_count": 73,
   "metadata": {},
   "outputs": [
    {
     "name": "stdout",
     "output_type": "stream",
     "text": [
      "Thread finished...\n"
     ]
    }
   ],
   "source": [
    "t.join()"
   ]
  },
  {
   "cell_type": "markdown",
   "metadata": {},
   "source": [
    "## Thread identity\n",
    "The thread class has 2 attributes that lets us identify each thread. `name` and `ident`"
   ]
  },
  {
   "cell_type": "code",
   "execution_count": 75,
   "metadata": {},
   "outputs": [],
   "source": [
    "def simple_worker():\n",
    "    print(\"Thread running...\")\n",
    "    time.sleep(5)\n",
    "    print(\"Thread finished...\")"
   ]
  },
  {
   "cell_type": "code",
   "execution_count": 76,
   "metadata": {},
   "outputs": [],
   "source": [
    "t= Thread(target=simple_worker)"
   ]
  },
  {
   "cell_type": "code",
   "execution_count": 77,
   "metadata": {},
   "outputs": [
    {
     "data": {
      "text/plain": [
       "'Thread-167 (simple_worker)'"
      ]
     },
     "execution_count": 77,
     "metadata": {},
     "output_type": "execute_result"
    }
   ],
   "source": [
    "t.name"
   ]
  },
  {
   "cell_type": "code",
   "execution_count": 80,
   "metadata": {},
   "outputs": [
    {
     "data": {
      "text/plain": [
       "True"
      ]
     },
     "execution_count": 80,
     "metadata": {},
     "output_type": "execute_result"
    }
   ],
   "source": [
    "t.ident is None"
   ]
  },
  {
   "cell_type": "code",
   "execution_count": 81,
   "metadata": {},
   "outputs": [
    {
     "name": "stdout",
     "output_type": "stream",
     "text": [
      "Thread running...\n"
     ]
    },
    {
     "name": "stdout",
     "output_type": "stream",
     "text": [
      "Thread finished...\n"
     ]
    }
   ],
   "source": [
    "t.start()"
   ]
  },
  {
   "cell_type": "code",
   "execution_count": 82,
   "metadata": {},
   "outputs": [
    {
     "data": {
      "text/plain": [
       "23776"
      ]
     },
     "execution_count": 82,
     "metadata": {},
     "output_type": "execute_result"
    }
   ],
   "source": [
    "t.ident"
   ]
  },
  {
   "cell_type": "code",
   "execution_count": 83,
   "metadata": {},
   "outputs": [
    {
     "data": {
      "text/plain": [
       "'Thread-167 (simple_worker)'"
      ]
     },
     "execution_count": 83,
     "metadata": {},
     "output_type": "execute_result"
    }
   ],
   "source": [
    "t.name"
   ]
  },
  {
   "cell_type": "code",
   "execution_count": 84,
   "metadata": {},
   "outputs": [],
   "source": [
    "t = Thread(target=simple_worker, name=\"MyThread\")"
   ]
  },
  {
   "cell_type": "code",
   "execution_count": 85,
   "metadata": {},
   "outputs": [
    {
     "name": "stdout",
     "output_type": "stream",
     "text": [
      "Thread running...\n"
     ]
    },
    {
     "name": "stdout",
     "output_type": "stream",
     "text": [
      "Thread finished...\n"
     ]
    }
   ],
   "source": [
    "t.start()"
   ]
  },
  {
   "cell_type": "code",
   "execution_count": 86,
   "metadata": {},
   "outputs": [
    {
     "data": {
      "text/plain": [
       "'MyThread'"
      ]
     },
     "execution_count": 86,
     "metadata": {},
     "output_type": "execute_result"
    }
   ],
   "source": [
    "t.name"
   ]
  },
  {
   "cell_type": "code",
   "execution_count": 87,
   "metadata": {},
   "outputs": [
    {
     "data": {
      "text/plain": [
       "8800"
      ]
     },
     "execution_count": 87,
     "metadata": {},
     "output_type": "execute_result"
    }
   ],
   "source": [
    "t.ident"
   ]
  },
  {
   "cell_type": "markdown",
   "metadata": {},
   "source": [
    "## A thread knows itself\n",
    "\n",
    "It is possible to know `ident` of the thread from within the thread. `threading.currentThread()` provides access to it."
   ]
  },
  {
   "cell_type": "code",
   "execution_count": 99,
   "metadata": {},
   "outputs": [],
   "source": [
    "def simple_worker():\n",
    "    sleep_sec = random.randint(1, 5)\n",
    "    me = threading.current_thread()\n",
    "    id = threading.get_ident()\n",
    "    print(f\"I am thread {me.name} with id {me.ident} and I'm sleeping for {sleep_sec} seconds\")\n",
    "    time.sleep(sleep_sec)\n",
    "    print(f\"Thread {me.name} exiting...\")"
   ]
  },
  {
   "cell_type": "code",
   "execution_count": 105,
   "metadata": {},
   "outputs": [],
   "source": [
    "t1 = Thread(target=simple_worker, name=\"Bubbles\")\n",
    "t2 = Thread(target=simple_worker, name=\"Blossoms\")\n",
    "t3 = Thread(target=simple_worker, name=\"Buttercup\")"
   ]
  },
  {
   "cell_type": "code",
   "execution_count": 106,
   "metadata": {},
   "outputs": [
    {
     "name": "stdout",
     "output_type": "stream",
     "text": [
      "I am thread Bubbles with id 4848 and I'm sleeping for 2 seconds\n"
     ]
    },
    {
     "name": "stdout",
     "output_type": "stream",
     "text": [
      "Thread Bubbles exiting...\n"
     ]
    }
   ],
   "source": [
    "t1.start()"
   ]
  },
  {
   "cell_type": "code",
   "execution_count": 107,
   "metadata": {},
   "outputs": [
    {
     "name": "stdout",
     "output_type": "stream",
     "text": [
      "I am thread Blossoms with id 15836 and I'm sleeping for 3 seconds\n"
     ]
    },
    {
     "name": "stdout",
     "output_type": "stream",
     "text": [
      "Thread Blossoms exiting...\n"
     ]
    }
   ],
   "source": [
    "t2.start()"
   ]
  },
  {
   "cell_type": "code",
   "execution_count": 108,
   "metadata": {},
   "outputs": [
    {
     "name": "stdout",
     "output_type": "stream",
     "text": [
      "I am thread Buttercup with id 22708 and I'm sleeping for 3 seconds\n"
     ]
    },
    {
     "name": "stdout",
     "output_type": "stream",
     "text": [
      "Thread Buttercup exiting...\n"
     ]
    }
   ],
   "source": [
    "t3.start()"
   ]
  },
  {
   "cell_type": "markdown",
   "metadata": {},
   "source": [
    "## Passing parameters\n",
    "\n",
    "It is done using `args`"
   ]
  },
  {
   "cell_type": "code",
   "execution_count": 110,
   "metadata": {},
   "outputs": [],
   "source": [
    "def simple_worker(time_to_sleep):\n",
    "    me = threading.current_thread()\n",
    "    id = threading.get_ident()\n",
    "    print(f\"I am thread {me.name} with id {me.ident} and I'm sleeping for {time_to_sleep} seconds\")\n",
    "    time.sleep(time_to_sleep)\n",
    "    print(f\"Thread {me.name} exiting...\")"
   ]
  },
  {
   "cell_type": "code",
   "execution_count": 111,
   "metadata": {},
   "outputs": [
    {
     "name": "stdout",
     "output_type": "stream",
     "text": [
      "I am thread Bubbles with id 14352 and I'm sleeping for 3 seconds\n",
      "I am thread Blossoms with id 15388 and I'm sleeping for 1.4 seconds\n",
      "I am thread Buttercup with id 4244 and I'm sleeping for 5 seconds\n"
     ]
    },
    {
     "name": "stdout",
     "output_type": "stream",
     "text": [
      "Thread Blossoms exiting...\n",
      "Thread Bubbles exiting...\n",
      "Thread Buttercup exiting...\n"
     ]
    }
   ],
   "source": [
    "t1 = Thread(target=simple_worker, name=\"Bubbles\", args=(3,))\n",
    "t2 = Thread(target=simple_worker, name=\"Blossoms\", args=(1.4,))\n",
    "t3 = Thread(target=simple_worker, name=\"Buttercup\", args=(5, ))\n",
    "t1.start()\n",
    "t2.start()\n",
    "t3.start()"
   ]
  },
  {
   "cell_type": "markdown",
   "metadata": {},
   "source": [
    "## Subclassing `Thread`"
   ]
  },
  {
   "cell_type": "code",
   "execution_count": 113,
   "metadata": {},
   "outputs": [],
   "source": [
    "class MyThread(Thread):\n",
    "    def __init__(self, name, time_to_sleep):\n",
    "        super().__init__(name=name)\n",
    "        self.time_to_sleep = time_to_sleep\n",
    "        \n",
    "    def run(self):\n",
    "        me = threading.current_thread()\n",
    "        id = threading.get_ident()\n",
    "        print(f\"I am thread {me.name} with id {me.ident} and I'm sleeping for {self.time_to_sleep} seconds\")\n",
    "        time.sleep(self.time_to_sleep)\n",
    "        print(f\"Thread {me.name} exiting...\")"
   ]
  },
  {
   "cell_type": "code",
   "execution_count": 114,
   "metadata": {},
   "outputs": [
    {
     "name": "stdout",
     "output_type": "stream",
     "text": [
      "I am thread Bubbles with id 6940 and I'm sleeping for 3 seconds\n",
      "I am thread Blossoms with id 2864 and I'm sleeping for 1.4 seconds\n",
      "I am thread Buttercup with id 20432 and I'm sleeping for 5 seconds\n"
     ]
    },
    {
     "name": "stdout",
     "output_type": "stream",
     "text": [
      "Thread Blossoms exiting...\n",
      "Thread Bubbles exiting...\n",
      "Thread Buttercup exiting...\n"
     ]
    },
    {
     "ename": "",
     "evalue": "",
     "output_type": "error",
     "traceback": [
      "\u001b[1;31mThe Kernel crashed while executing code in the current cell or a previous cell. \n",
      "\u001b[1;31mPlease review the code in the cell(s) to identify a possible cause of the failure. \n",
      "\u001b[1;31mClick <a href='https://aka.ms/vscodeJupyterKernelCrash'>here</a> for more info. \n",
      "\u001b[1;31mView Jupyter <a href='command:jupyter.viewOutput'>log</a> for further details."
     ]
    }
   ],
   "source": [
    "t1 = MyThread(\"Bubbles\", 3)\n",
    "t2 = MyThread(\"Blossoms\", 1.4)\n",
    "t3 = MyThread(\"Buttercup\", 5)\n",
    "t1.start()\n",
    "t2.start()\n",
    "t3.start()"
   ]
  }
 ],
 "metadata": {
  "kernelspec": {
   "display_name": "Python 3",
   "language": "python",
   "name": "python3"
  },
  "language_info": {
   "codemirror_mode": {
    "name": "ipython",
    "version": 3
   },
   "file_extension": ".py",
   "mimetype": "text/x-python",
   "name": "python",
   "nbconvert_exporter": "python",
   "pygments_lexer": "ipython3",
   "version": "3.12.3"
  }
 },
 "nbformat": 4,
 "nbformat_minor": 2
}
